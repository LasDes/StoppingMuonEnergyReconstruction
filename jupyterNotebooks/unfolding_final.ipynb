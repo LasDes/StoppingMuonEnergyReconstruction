{
 "cells": [
  {
   "cell_type": "code",
   "execution_count": 1,
   "metadata": {},
   "outputs": [],
   "source": [
    "import pandas as pd\n",
    "import numpy as np\n",
    "from matplotlib import pyplot as plt\n",
    "import matplotlib.colors as colors\n",
    "from matplotlib.colors import LogNorm\n",
    "from scipy.optimize import minimize\n",
    "from sklearn.externals import joblib\n",
    "\n",
    "from tqdm import tqdm\n",
    "import multiprocessing as mp\n",
    "from joblib import Parallel, delayed\n",
    "\n",
    "import warnings\n",
    "warnings.filterwarnings('ignore')"
   ]
  },
  {
   "cell_type": "code",
   "execution_count": 2,
   "metadata": {},
   "outputs": [],
   "source": [
    "R_E = 6371000\n",
    "depth_icecube = 1950\n",
    "cut = 77.0 / 180 * np.pi\n",
    "\n",
    "\n",
    "def calc_range(depth, zenith):\n",
    "    b = R_E - depth_icecube + depth\n",
    "    return -b * np.cos(zenith) + np.sqrt((R_E ** 2 - b ** 2) * np.sin(zenith) ** 2 + R_E ** 2 * np.cos(zenith) ** 2) + np.finfo(float).max * (R_E ** 2 - b ** 2 < 0.0)\n",
    "\n",
    "r_gen = 800\n",
    "h_gen = 1600\n",
    "A_gen = 2 * np.pi * r_gen * h_gen + 2 * np.pi * r_gen**2"
   ]
  },
  {
   "cell_type": "code",
   "execution_count": 3,
   "metadata": {},
   "outputs": [],
   "source": [
    "eMin = 400\n",
    "eMax = 30000\n",
    "\n",
    "data_dir = '/home/sninfa/jupyter/data/400-30k_10Bins'\n",
    "\n",
    "area = joblib.load('%s/effArea_mgs_corsica_total.pickle' % data_dir)\n",
    "input_df = joblib.load('%s/df_corsica_est.pickle' % data_dir)\n",
    "\n",
    "input_df['range'] = calc_range(input_df.stop_z, input_df.zenith)\n",
    "input_df['range_log'] = np.log10(input_df.range)\n",
    "input_df['energy_log'] = np.log10(input_df.energy_stop)\n",
    "\n",
    "input_df = input_df[(input_df.single_stopping > 0.79) & (input_df.quality < -0.6) & (input_df.zenith < cut) & (input_df.energy_stop > 0.0)]\n",
    "\n",
    "input_df['weight_norm'] = input_df.weight.values / input_df.weight.sum()\n",
    "input_df['weight_G4_norm'] = input_df.weight_G4.values / input_df.weight_G4.sum()\n",
    "input_df['weight_H_norm'] = input_df.weight_H.values / input_df.weight_H.sum()"
   ]
  },
  {
   "cell_type": "code",
   "execution_count": 4,
   "metadata": {},
   "outputs": [],
   "source": [
    "nbins_E = 10\n",
    "nbins_r = 10\n",
    "\n",
    "binning_E = np.logspace(np.log10(eMin), np.log10(eMax), nbins_E + 1)\n",
    "binning_r = np.logspace(np.log10(2000), np.log10(13000), nbins_r + 1)\n",
    "\n",
    "binning_idx_r = np.arange(nbins_r + 3) - 0.5\n",
    "binning_idx_E = np.arange(nbins_E + 3) - 0.5\n",
    "\n",
    "acceptance = area.values / A_gen\n",
    "acceptance = np.insert(acceptance, 0 , 1.0)\n",
    "acceptance = np.append(acceptance, 1.0)"
   ]
  },
  {
   "cell_type": "code",
   "execution_count": 5,
   "metadata": {},
   "outputs": [],
   "source": [
    "cmap = plt.cm.magma\n",
    "cmap.set_under('w')"
   ]
  },
  {
   "cell_type": "code",
   "execution_count": 6,
   "metadata": {},
   "outputs": [],
   "source": [
    "def llh_poisson(A, f_est, g):\n",
    "    return np.sum(A.dot(f_est) - g * np.log(np.abs(A.dot(f_est)) + 1e-8))\n",
    "    # return np.sum(A.dot(f_est) - g * np.log(np.abs(A.dot(f_est / acceptance)) + 1e-8))"
   ]
  },
  {
   "cell_type": "code",
   "execution_count": 7,
   "metadata": {},
   "outputs": [],
   "source": [
    "def only_positive(f_est):\n",
    "    return np.finfo('float').max * (f_est < 0.0).any()"
   ]
  },
  {
   "cell_type": "code",
   "execution_count": 8,
   "metadata": {},
   "outputs": [],
   "source": [
    "def C_matrix(n):\n",
    "    I = np.eye(n)\n",
    "    C = 2.0 * I - np.roll(I, 1) - np.roll(I, -1)\n",
    "    return C"
   ]
  },
  {
   "cell_type": "code",
   "execution_count": 9,
   "metadata": {},
   "outputs": [],
   "source": [
    "def tikhonov_reg(f_est, tau):\n",
    "    C = C_matrix(len(f_est) - 2)\n",
    "    return tau * np.sum(C.dot(np.log(np.abs(f_est[1:-1] / acceptance[1:-1]) + 10e+8)) ** 2)"
   ]
  },
  {
   "cell_type": "code",
   "execution_count": 10,
   "metadata": {},
   "outputs": [],
   "source": [
    "def mcmc(x0, fun, step_size=1.5, n_steps=10000, print_acceptance=False, print_results=False):\n",
    "    x = [x0]\n",
    "    f = [fun(x0)]\n",
    "    acc = 0\n",
    "    for _ in range(n_steps):\n",
    "        x_new = x[-1] + step_size * np.random.randn(len(x0))\n",
    "        f_new = fun(x_new)\n",
    "        prop_eval = -np.log(np.random.rand()) > f_new - f[-1]\n",
    "        if prop_eval:\n",
    "            x.append(x_new)\n",
    "            f.append(f_new)\n",
    "            acc += 1\n",
    "        else:\n",
    "            if print_results:\n",
    "                print 'x_new: {}'.format(x_new)\n",
    "                print 'f_new: {}'.format(f_new)\n",
    "            x.append(x[-1])\n",
    "            f.append(f[-1])\n",
    "    if print_acceptance:\n",
    "        print('{}% of proposed steps accepted.'.format(100 * acc / n_steps))\n",
    "    return np.array(x), np.array(f)"
   ]
  },
  {
   "cell_type": "code",
   "execution_count": 11,
   "metadata": {},
   "outputs": [],
   "source": [
    "def get_pull(pull_id, tau, output=None, max_iter=100000, model='G3'):   \n",
    "    np.random.seed()\n",
    "    permute = np.random.permutation(len(input_df))    \n",
    "    \n",
    "    # mc = input_df.loc[permute[input_df.index % 2 != 0]]\n",
    "    # data = input_df.loc[permute[input_df.index % 2 == 0]]\n",
    "    \n",
    "    if model == 'G3':\n",
    "        sel = np.random.choice(input_df.index, len(input_df.index)/2, p=input_df.loc[input_df.index, \"weight_norm\"], replace=False)\n",
    "    elif model == 'G4':\n",
    "        sel = np.random.choice(input_df.index, len(input_df.index)/2, p=input_df.loc[input_df.index, \"weight_G4_norm\"], replace=False)\n",
    "    elif model == 'H':\n",
    "        sel = np.random.choice(input_df.index, len(input_df.index)/2, p=input_df.loc[input_df.index, \"weight_H_norm\"], replace=False)\n",
    "    else:\n",
    "        sel = [-1]\n",
    "        return 'Failed to select a model!!! (%s)' % model\n",
    "        \n",
    "    data = input_df[input_df.index.isin(sel)]    \n",
    "    mc = input_df[~input_df.index.isin(sel)]\n",
    "\n",
    "    mc['energy_idx'] = np.digitize(mc.energy_stop, binning_E)\n",
    "    mc['range_idx'] = np.digitize(mc.range, binning_r)\n",
    "\n",
    "    data['energy_idx'] = np.digitize(data.energy_stop, binning_E)\n",
    "    data['range_idx'] = np.digitize(data.range, binning_r)\n",
    "\n",
    "    H, _, _ = np.histogram2d(mc['range_idx'], mc['energy_idx'], (binning_idx_r, binning_idx_E), weights=mc['weight_norm'])\n",
    "    A = H / np.sum(H, axis=0)\n",
    "    A = np.nan_to_num(A)\n",
    "\n",
    "    f_data, _ = np.histogram(data.energy_idx, binning_idx_E)\n",
    "    g_data, _ = np.histogram(data.range_idx, binning_idx_r)\n",
    "\n",
    "    function = lambda f_est: llh_poisson(A, f_est, g_data)\\\n",
    "                       + only_positive(f_est)\\\n",
    "                       + tikhonov_reg(f_est, tau)\n",
    "\n",
    "    result = minimize(function, x0=f_data, method='Nelder-Mead', options={'maxiter': 10000})\n",
    "\n",
    "    x0 = 50.0 * np.ones(len(f_data))\n",
    "\n",
    "    x_sample, f_sample = mcmc(x0, function, step_size=1.2, n_steps=10000)\n",
    "    x_sample, f_sample = mcmc(result.x, function, step_size=1.2, n_steps=100000, print_acceptance=False, print_results=False)\n",
    "        \n",
    "    if output is None:\n",
    "        return [f_data, np.median(x_sample, axis=0), np.std(x_sample, axis=0)]\n",
    "    else:\n",
    "        output.put([f_data, np.median(x_sample, axis=0), np.std(x_sample, axis=0)])"
   ]
  },
  {
   "cell_type": "code",
   "execution_count": 12,
   "metadata": {},
   "outputs": [],
   "source": [
    "def plot_pulls(pull):\n",
    "    pull = np.swapaxes(pull, 0, 1)\n",
    "    fig, ax = plt.subplots(11, 2, figsize=(7, 16), sharex=True)\n",
    "    pull_bins = np.linspace(-3.0, 3.0, 20)\n",
    "    t = np.linspace(-3.0, 3.0, 100)\n",
    "    y_gauss = np.exp(-t ** 2 / 2.0) / np.sqrt(2.0 * np.pi)\n",
    "    for i in range(nbins_E + 2):\n",
    "        idx_1, idx_2 = np.unravel_index(i, ax.shape)\n",
    "        p_stat = ((pull[0] - pull[1]) / pull[2])[:,i]\n",
    "        p_stat = np.array(filter(lambda x : np.abs(x) < 10, p_stat))\n",
    "        ax[idx_1, idx_2].hist(p_stat, pull_bins, normed=True)\n",
    "        ax[idx_1, idx_2].plot(t, y_gauss)\n",
    "        ax[idx_1, idx_2].set_xlim([-3.0, 3.0])\n",
    "        ax[idx_1, idx_2].legend([], title=\"Bin %i\\nMean %.2f\\nStd: %.2f\" % (i, np.mean(p_stat), np.std(p_stat)),\n",
    "                                loc=\"upper right\")\n",
    "    ax[-1, 0].set_xlabel(\"Pull Statistic\")\n",
    "    ax[-1, 1].set_xlabel(\"Pull Statistic\")\n",
    "    # fig.delaxes(ax[-1,-1])\n",
    "    plt.tight_layout()\n",
    "    plt.show()"
   ]
  },
  {
   "cell_type": "code",
   "execution_count": 13,
   "metadata": {},
   "outputs": [],
   "source": [
    "reg_coeff_list = [0.001,0.01,0.1,1,10,100]"
   ]
  },
  {
   "cell_type": "code",
   "execution_count": 14,
   "metadata": {},
   "outputs": [
    {
     "name": "stdout",
     "output_type": "stream",
     "text": [
      "***Begin pulls for tau = 0.001000\n",
      "***Begin pulls for tau = 0.010000\n",
      "***Begin pulls for tau = 0.100000\n",
      "***Begin pulls for tau = 1.000000\n",
      "***Begin pulls for tau = 10.000000\n",
      "***Begin pulls for tau = 100.000000\n"
     ]
    }
   ],
   "source": [
    "pulls = []\n",
    "for tau in reg_coeff_list:\n",
    "    print '***Begin pulls for tau = %f' % tau\n",
    "    pulls += [Parallel(n_jobs=8)(delayed(get_pull)(i, tau, model='G3') for i in range(1000))]"
   ]
  },
  {
   "cell_type": "code",
   "execution_count": 15,
   "metadata": {},
   "outputs": [],
   "source": [
    "def plot_bias(pull_results):\n",
    "    fig, ax = plt.subplots(len(reg_coeff_list)/2, 2, figsize=(16, 16), sharex=True, sharey=True)\n",
    "    for i, tau in enumerate(reg_coeff_list):\n",
    "        pull = pull_results[i]\n",
    "        pull = np.swapaxes(pull, 0, 1)\n",
    "        idx_1, idx_2 = np.unravel_index(i, ax.shape)\n",
    "        data_list = []\n",
    "        for j in range(nbins_E + 2):\n",
    "            p_stat = ((pull[0] - pull[1]) / pull[2])[:,j]\n",
    "            p_stat = np.array(filter(lambda x : np.abs(x) < 10, p_stat))\n",
    "            data_list.append([j, np.mean(p_stat), np.std(p_stat)])\n",
    "        data_list = np.array(data_list)\n",
    "        ax[idx_1, idx_2].errorbar(x=data_list[:,0], y=data_list[:,1], yerr=data_list[:,2], fmt='x', label=r'$\\tau = %i$' % tau, capsize=4, color='green')\n",
    "        ax[idx_1, idx_2].hlines(y=[-1, 1], xmin=0, xmax=11, linestyles='--', color='red')\n",
    "        ax[idx_1, idx_2].xlim = (-1, 22)\n",
    "        ax[idx_1, idx_2].legend(loc=\"best\")  \n",
    "        if idx_2 == 0:\n",
    "            ax[idx_1, idx_2].set_ylabel('pull statistic mean')\n",
    "        if idx_1 == ax.shape[0] - 1:\n",
    "            ax[idx_1, idx_2].set_xlabel('bin')\n",
    "    plt.show()"
   ]
  },
  {
   "cell_type": "raw",
   "metadata": {},
   "source": [
    "plot_bias(pulls)"
   ]
  },
  {
   "cell_type": "raw",
   "metadata": {},
   "source": [
    "plot_pulls(pulls[3])"
   ]
  },
  {
   "cell_type": "code",
   "execution_count": 16,
   "metadata": {},
   "outputs": [
    {
     "data": {
      "text/plain": [
       "['/home/sninfa/jupyter/data/unfolding_v4_G3_output_weighted.pickle']"
      ]
     },
     "execution_count": 16,
     "metadata": {},
     "output_type": "execute_result"
    }
   ],
   "source": [
    "joblib.dump(pulls, '/home/sninfa/jupyter/data/unfolding_v4_G3_output_weighted.pickle')"
   ]
  },
  {
   "cell_type": "code",
   "execution_count": null,
   "metadata": {},
   "outputs": [],
   "source": []
  }
 ],
 "metadata": {
  "kernelspec": {
   "display_name": "Python 2",
   "language": "python",
   "name": "python2"
  },
  "language_info": {
   "codemirror_mode": {
    "name": "ipython",
    "version": 2
   },
   "file_extension": ".py",
   "mimetype": "text/x-python",
   "name": "python",
   "nbconvert_exporter": "python",
   "pygments_lexer": "ipython2",
   "version": "2.7.12"
  }
 },
 "nbformat": 4,
 "nbformat_minor": 2
}
